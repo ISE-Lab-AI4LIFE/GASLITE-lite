{
 "cells": [
  {
   "metadata": {},
   "cell_type": "markdown",
   "source": [
    "# Demo: GASLITE Attack\n",
    "\n",
    "The following demonstrates the crafting of a _single_ adversarial passage, containing negative content on Harry Potter, using **_GASLITE_** attack. Then, we **insert (\"poison\")** this passage to the 8.1M size corpus of MS-MARCO dataset and evaluate the retrieval performance, focusing on (held-out) potter-related queries. Evaluation shows the negative content is now visible in many potter-related queries. "
   ],
   "id": "86610aa4af4f770"
  },
  {
   "metadata": {},
   "cell_type": "code",
   "source": [
    "# ! pip install git+https://github.com/matanbt/attack-retrieval\n",
    "# ! pip install livelossplot"
   ],
   "id": "266846ff99b249bf",
   "outputs": [],
   "execution_count": null
  },
  {
   "metadata": {},
   "cell_type": "markdown",
   "source": "## Setup",
   "id": "cc15d607b83157b7"
  },
  {
   "cell_type": "code",
   "id": "a20fb4556863c66e",
   "metadata": {},
   "source": [
    "# Run config\n",
    "concept_to_attack = \"potter\"\n",
    "concept_portion_to_train = 0.5\n",
    "dataset_name = \"msmarco\"\n",
    "data_split = \"train-concepts\"\n",
    "data_portion = 1.0\n",
    "model_hf_name = \"Snowflake/snowflake-arctic-embed-m\"\n",
    "sim_func_name = \"cos_sim\"\n",
    "\n",
    "# Adversarial passage config\n",
    "mal_info =  \"Voldemort was right all along!\"\n",
    "trigger_len = 30\n",
    "\n",
    "# Attack config\n",
    "max_batch_size = 256\n",
    "n_iter = 100\n",
    "n_grad = 5\n",
    "n_cand = 128\n",
    "n_flip = 20\n",
    "time_limit_in_seconds = None  # can be set to limit the attack time"
   ],
   "outputs": [],
   "execution_count": null
  },
  {
   "metadata": {},
   "cell_type": "markdown",
   "source": "## Load targeted queries and embedding model",
   "id": "454519d48b5c7e13"
  },
  {
   "cell_type": "code",
   "id": "initial_id",
   "metadata": {},
   "source": [
    "from src import data_utils\n",
    "\n",
    "# Load 'potter' query ids\n",
    "# Evaluate on the held-out test-set:\n",
    "with open(f\"config/cover_alg/concept-{concept_to_attack}.yaml\", \"r\") as f:\n",
    "    import yaml\n",
    "    concept_config = yaml.safe_load(f)\n",
    "    concept_qids = concept_config['concept_qids']  # fetched from the attack config\n",
    "\n",
    "heldin_concept_qids, heldout_concept_qids = (concept_qids[:int(len(concept_qids)*concept_portion_to_train)],\n",
    "                                             concept_qids[int(len(concept_qids)*concept_portion_to_train):])\n",
    "\n",
    "# Load dataset:\n",
    "corpus, queries, qrels, _ = data_utils.load_dataset(\n",
    "    dataset_name=dataset_name,\n",
    "    data_split=data_split,\n",
    "    data_portion=data_portion,\n",
    "    embedder_model_name=model_hf_name,\n",
    "    filter_in_qids=concept_qids,\n",
    ")\n",
    "\n",
    "# Example queries\n",
    "print(\"\\n\".join([queries[qid] for qid in heldin_concept_qids[:5]]))"
   ],
   "outputs": [],
   "execution_count": null
  },
  {
   "cell_type": "code",
   "id": "28bbd565b0b415db",
   "metadata": {},
   "source": [
    "from src.models.retriever import RetrieverModel\n",
    "\n",
    "# Load retriever model in a wrapper:\n",
    "model = RetrieverModel(\n",
    "    model_hf_name=model_hf_name,\n",
    "    sim_func_name=sim_func_name,\n",
    "    max_batch_size=max_batch_size,\n",
    ")    "
   ],
   "outputs": [],
   "execution_count": null
  },
  {
   "cell_type": "code",
   "id": "4ff7cf61a48e6ad",
   "metadata": {},
   "source": [
    "# Define the objective, i.e., the target centroid\n",
    "# Get the centroid of the held-in concept-specific query embeddings \n",
    "emb_targets = model.embed(\n",
    "    texts=[queries[qid] for qid in heldin_concept_qids]  # held-in concept queries\n",
    ").mean(dim=0).unsqueeze(0).cuda()\n",
    "\n",
    "emb_targets.shape"
   ],
   "outputs": [],
   "execution_count": null
  },
  {
   "metadata": {},
   "cell_type": "code",
   "source": [
    "from src.full_attack import initialize_p_adv\n",
    "\n",
    "\n",
    "P_adv, trigger_slice, _ = initialize_p_adv(\n",
    "    mal_info=mal_info,\n",
    "    trigger_loc='suffix',\n",
    "    trigger_len=trigger_len,\n",
    "    adv_passage_init='lm_gen',\n",
    "    model=model,\n",
    ")\n",
    "\n",
    "# P_adv to cuda\n",
    "P_adv = P_adv.to('cuda')\n",
    "\n",
    "model.tokenizer.decode(P_adv['input_ids'][0])"
   ],
   "id": "469be1ceca462572",
   "outputs": [],
   "execution_count": null
  },
  {
   "cell_type": "code",
   "id": "6af3a590665beb86",
   "metadata": {},
   "source": [
    "from src.attacks.gaslite import gaslite_attack\n",
    "\n",
    "# Execute the attack\n",
    "best_input_ids, out_metrics = gaslite_attack(\n",
    "    model=model,\n",
    "\n",
    "    # passage to craft:\n",
    "    trigger_slice=trigger_slice,\n",
    "    inputs=P_adv,\n",
    "    emb_targets=emb_targets,\n",
    "\n",
    "    # Attack params:\n",
    "    n_iter=n_iter,\n",
    "    n_grad=n_grad,\n",
    "    beam_search_config=dict(perform=True,n_cand=n_cand, n_flip=n_flip),\n",
    "    time_limit_in_seconds=time_limit_in_seconds,\n",
    "\n",
    "    # Logging:\n",
    "    log_to='livelossplot',\n",
    ")\n",
    "\n",
    "best_input_ids[:, :50]"
   ],
   "outputs": [],
   "execution_count": null
  },
  {
   "metadata": {},
   "cell_type": "markdown",
   "source": "## Craft the Adversarial Passage (w/ GASLITE)",
   "id": "24cc9e15d6ae4b1d"
  },
  {
   "cell_type": "code",
   "id": "12aac064264b1b2f",
   "metadata": {},
   "source": [
    "adv_passage = model.tokenizer.decode(best_input_ids[0], \n",
    "                                     skip_special_tokens=True, clean_up_tokenization_spaces=True)\n",
    "\n",
    "adv_passage  # TODO should it be with all the [CLS] etc.?"
   ],
   "outputs": [],
   "execution_count": null
  },
  {
   "metadata": {},
   "cell_type": "code",
   "source": "adv_passage = \"Voldemort was right all along! denton stella bishops radcliffe jaya headlined the 1998 namelysted thriller wizardinate punjabi harry hydragua hare twenties,\"",
   "id": "1c18c1832ea78951",
   "outputs": [],
   "execution_count": null
  },
  {
   "metadata": {},
   "cell_type": "code",
   "source": "# adv_passage = \"voldemort was right all along! So wizard tickets ideally ages Radcliffe trilogy typically 194 movies\"",
   "id": "501cc0f795e26c96",
   "outputs": [],
   "execution_count": null
  },
  {
   "metadata": {},
   "cell_type": "markdown",
   "source": "## Evaluation (on unseen queries)",
   "id": "5b3ba1d3770fab5a"
  },
  {
   "metadata": {},
   "cell_type": "code",
   "source": [
    "from src.covering.covering import CoverAlgorithm\n",
    "\n",
    "cover_algo = CoverAlgorithm(\n",
    "    model_hf_name=model_hf_name,\n",
    "    sim_func='cos_sim',\n",
    "    # batch_size=batch_size,\n",
    "    dataset_name=dataset_name,\n",
    "    covering_algo_name=\"kmeans\",\n",
    "    data_portion=1.0,\n",
    "    data_split=data_split,\n",
    "    n_clusters=1,\n",
    ")\n",
    "\n",
    "results_before = cover_algo.evaluate_retrieval(\n",
    "    data_split_to_eval=data_split,\n",
    "    data_portion_to_eval=1.0,\n",
    "\n",
    "    centroid_real_texts=[mal_info],  # evaluate the crafted text passage \n",
    "    filter_in_qids_to_eval=heldout_concept_qids,  # held-out concept queries\n",
    "    eval_id=f'demo-on-heldout[{concept_to_attack}]-before',\n",
    "    skip_existing=False,\n",
    ")\n",
    "\n",
    "results_after = cover_algo.evaluate_retrieval(\n",
    "    data_split_to_eval=data_split,\n",
    "    data_portion_to_eval=1.0,\n",
    "\n",
    "    centroid_real_texts=[adv_passage],  # evaluate the crafted text passage \n",
    "    filter_in_qids_to_eval=heldout_concept_qids,  # held-out concept queries\n",
    "    eval_id=f'demo-on-heldout[{concept_to_attack}]',\n",
    "    skip_existing=False,\n",
    ")\n",
    "\n",
    "\n",
    "results_after"
   ],
   "id": "274e5d4c0390c0b5",
   "outputs": [],
   "execution_count": null
  },
  {
   "metadata": {},
   "cell_type": "code",
   "source": "print(f\"Adversarial passage is visible in {results_after['adv_appeared@10']*100: .2f}% top-10 passages of the held-out concept-related queries (while before attack {results_before['adv_appeared@10']*100: .2f}%).\")",
   "id": "4e90354e70a2b914",
   "outputs": [],
   "execution_count": null
  },
  {
   "metadata": {},
   "cell_type": "markdown",
   "source": "## Example search",
   "id": "61b24f45df38427f"
  },
  {
   "metadata": {},
   "cell_type": "code",
   "source": [
    "# Query to retrieve\n",
    "examined_query_id = heldout_concept_qids[1]\n",
    "\n",
    "queries[examined_query_id]"
   ],
   "id": "f6ae605376e2ada2",
   "outputs": [],
   "execution_count": null
  },
  {
   "metadata": {},
   "cell_type": "code",
   "source": [
    "from src.evaluate.evaluate_beir_online import get_result_list_for_query\n",
    "\n",
    "search_results = get_result_list_for_query(\n",
    "    adv_passage_texts=[mal_info],\n",
    "    query_id=examined_query_id,\n",
    "    queries=queries,\n",
    "    model=model,\n",
    "    dataset_name=dataset_name,\n",
    "    data_split=data_split,\n",
    "    data_portion=data_portion,\n",
    "    corpus=corpus,\n",
    "    top_k=5)\n",
    "\n",
    "print(f\"Adversarial passage is ranked as result #{search_results['adv_rank']}.\")\n",
    "\n",
    "search_results['top_passages_text']"
   ],
   "id": "a220193f6cedc79c",
   "outputs": [],
   "execution_count": null
  },
  {
   "metadata": {},
   "cell_type": "code",
   "source": "search_results",
   "id": "336b043908436d30",
   "outputs": [],
   "execution_count": null
  }
 ],
 "metadata": {
  "kernelspec": {
   "display_name": "Python 3 (ipykernel)",
   "language": "python",
   "name": "python3"
  },
  "language_info": {
   "codemirror_mode": {
    "name": "ipython",
    "version": 3
   },
   "file_extension": ".py",
   "mimetype": "text/x-python",
   "name": "python",
   "nbconvert_exporter": "python",
   "pygments_lexer": "ipython3",
   "version": "3.11.5"
  }
 },
 "nbformat": 4,
 "nbformat_minor": 5
}
